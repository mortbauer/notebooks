{
 "cells": [
  {
   "cell_type": "markdown",
   "metadata": {},
   "source": [
    "# Asyncio"
   ]
  },
  {
   "cell_type": "code",
   "execution_count": 1,
   "metadata": {
    "ExecuteTime": {
     "end_time": "2018-06-07T06:15:27.720690Z",
     "start_time": "2018-06-07T06:15:27.642311Z"
    },
    "collapsed": true
   },
   "outputs": [],
   "source": [
    "import asyncio"
   ]
  },
  {
   "cell_type": "code",
   "execution_count": 7,
   "metadata": {
    "ExecuteTime": {
     "end_time": "2018-06-07T06:16:19.233502Z",
     "start_time": "2018-06-07T06:16:19.218316Z"
    },
    "collapsed": true
   },
   "outputs": [],
   "source": [
    "async def app_main_loop(name):\n",
    "    i = 0\n",
    "    while i < 5:\n",
    "        print('hello {1} from {0}'.format(name,i))\n",
    "        await asyncio.sleep(0.1)\n",
    "        i += 1"
   ]
  },
  {
   "cell_type": "code",
   "execution_count": 8,
   "metadata": {
    "ExecuteTime": {
     "end_time": "2018-06-07T06:16:19.606559Z",
     "start_time": "2018-06-07T06:16:19.600371Z"
    },
    "collapsed": true
   },
   "outputs": [],
   "source": [
    "loop = asyncio.get_event_loop()"
   ]
  },
  {
   "cell_type": "code",
   "execution_count": 9,
   "metadata": {
    "ExecuteTime": {
     "end_time": "2018-06-07T06:16:20.528647Z",
     "start_time": "2018-06-07T06:16:20.012844Z"
    }
   },
   "outputs": [
    {
     "name": "stdout",
     "output_type": "stream",
     "text": [
      "hello 0 from 2\n",
      "hello 0 from 1\n",
      "hello 1 from 2\n",
      "hello 1 from 1\n",
      "hello 2 from 2\n",
      "hello 2 from 1\n",
      "hello 3 from 2\n",
      "hello 3 from 1\n",
      "hello 4 from 2\n",
      "hello 4 from 1\n"
     ]
    },
    {
     "data": {
      "text/plain": [
       "[None, None]"
      ]
     },
     "execution_count": 9,
     "metadata": {},
     "output_type": "execute_result"
    }
   ],
   "source": [
    "loop.run_until_complete(asyncio.gather(\n",
    "    app_main_loop(1),\n",
    "    app_main_loop(2)\n",
    "))"
   ]
  },
  {
   "cell_type": "code",
   "execution_count": null,
   "metadata": {
    "collapsed": true
   },
   "outputs": [],
   "source": []
  }
 ],
 "metadata": {
  "kernelspec": {
   "display_name": "Python (venv35)",
   "language": "python",
   "name": "venv35"
  },
  "language_info": {
   "codemirror_mode": {
    "name": "ipython",
    "version": 3
   },
   "file_extension": ".py",
   "mimetype": "text/x-python",
   "name": "python",
   "nbconvert_exporter": "python",
   "pygments_lexer": "ipython3",
   "version": "3.5.2"
  },
  "toc": {
   "nav_menu": {},
   "number_sections": true,
   "sideBar": true,
   "skip_h1_title": false,
   "title_cell": "Table of Contents",
   "title_sidebar": "Contents",
   "toc_cell": false,
   "toc_position": {},
   "toc_section_display": true,
   "toc_window_display": true
  }
 },
 "nbformat": 4,
 "nbformat_minor": 2
}
