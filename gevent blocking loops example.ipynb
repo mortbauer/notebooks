{
 "cells": [
  {
   "cell_type": "markdown",
   "metadata": {},
   "source": [
    "# Gevent"
   ]
  },
  {
   "cell_type": "code",
   "execution_count": 5,
   "metadata": {
    "ExecuteTime": {
     "end_time": "2018-06-07T06:19:35.131628Z",
     "start_time": "2018-06-07T06:19:35.128010Z"
    },
    "collapsed": true
   },
   "outputs": [],
   "source": [
    "import gevent"
   ]
  },
  {
   "cell_type": "code",
   "execution_count": 6,
   "metadata": {
    "ExecuteTime": {
     "end_time": "2018-06-07T06:19:35.373033Z",
     "start_time": "2018-06-07T06:19:35.364549Z"
    },
    "collapsed": true
   },
   "outputs": [],
   "source": [
    "def app_main_loop(name):\n",
    "    i = 0\n",
    "    while i < 5:\n",
    "        print('hello {1} from {0}'.format(name,i))\n",
    "        gevent.sleep(0.1)\n",
    "        i += 1"
   ]
  },
  {
   "cell_type": "code",
   "execution_count": 7,
   "metadata": {
    "ExecuteTime": {
     "end_time": "2018-06-07T06:19:36.124394Z",
     "start_time": "2018-06-07T06:19:35.610409Z"
    }
   },
   "outputs": [
    {
     "name": "stdout",
     "output_type": "stream",
     "text": [
      "hello 0 from 1\n",
      "hello 0 from 2\n",
      "hello 1 from 1\n",
      "hello 1 from 2\n",
      "hello 2 from 1\n",
      "hello 2 from 2\n",
      "hello 3 from 1\n",
      "hello 3 from 2\n",
      "hello 4 from 1\n",
      "hello 4 from 2\n"
     ]
    },
    {
     "data": {
      "text/plain": [
       "[<Greenlet \"Greenlet-2\" at 0x7f08f647e788: _run>,\n",
       " <Greenlet \"Greenlet-3\" at 0x7f08f647e890: _run>]"
      ]
     },
     "execution_count": 7,
     "metadata": {},
     "output_type": "execute_result"
    }
   ],
   "source": [
    "gevent.joinall((\n",
    "    gevent.spawn(app_main_loop,1),\n",
    "    gevent.spawn(app_main_loop,2),\n",
    "))"
   ]
  },
  {
   "cell_type": "code",
   "execution_count": null,
   "metadata": {
    "collapsed": true
   },
   "outputs": [],
   "source": []
  }
 ],
 "metadata": {
  "kernelspec": {
   "display_name": "Python 2",
   "language": "python",
   "name": "python2"
  },
  "language_info": {
   "codemirror_mode": {
    "name": "ipython",
    "version": 2
   },
   "file_extension": ".py",
   "mimetype": "text/x-python",
   "name": "python",
   "nbconvert_exporter": "python",
   "pygments_lexer": "ipython2",
   "version": "2.7.12"
  },
  "toc": {
   "nav_menu": {},
   "number_sections": true,
   "sideBar": true,
   "skip_h1_title": false,
   "title_cell": "Table of Contents",
   "title_sidebar": "Contents",
   "toc_cell": false,
   "toc_position": {},
   "toc_section_display": true,
   "toc_window_display": true
  }
 },
 "nbformat": 4,
 "nbformat_minor": 2
}
